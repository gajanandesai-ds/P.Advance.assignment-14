{
 "cells": [
  {
   "cell_type": "raw",
   "id": "8aca7f2f",
   "metadata": {},
   "source": [
    "Q1. Is an assignment operator like += only for show? Is it possible that it would lead to faster results\n",
    "at the runtime?"
   ]
  },
  {
   "cell_type": "raw",
   "id": "bf2ee3f8",
   "metadata": {},
   "source": [
    "ans: Yes it is inplace of adding."
   ]
  },
  {
   "cell_type": "code",
   "execution_count": null,
   "id": "18bff516",
   "metadata": {},
   "outputs": [],
   "source": []
  },
  {
   "cell_type": "code",
   "execution_count": null,
   "id": "77c73db5",
   "metadata": {},
   "outputs": [],
   "source": []
  },
  {
   "cell_type": "raw",
   "id": "d200bbf9",
   "metadata": {},
   "source": [
    "Q2. What is the smallest number of statements you&#39;d have to write in most programming languages to\n",
    "replace the Python expression a, b = a + b, a?"
   ]
  },
  {
   "cell_type": "raw",
   "id": "b944f20e",
   "metadata": {},
   "source": [
    "ans: a=a+b\n",
    "     b=a"
   ]
  },
  {
   "cell_type": "code",
   "execution_count": null,
   "id": "803a89dd",
   "metadata": {},
   "outputs": [],
   "source": []
  },
  {
   "cell_type": "code",
   "execution_count": null,
   "id": "a609f194",
   "metadata": {},
   "outputs": [],
   "source": []
  },
  {
   "cell_type": "raw",
   "id": "1aadbd77",
   "metadata": {},
   "source": [
    "Q3. In Python, what is the most effective way to set a list of 100 integers to 0?"
   ]
  },
  {
   "cell_type": "raw",
   "id": "c545db47",
   "metadata": {},
   "source": [
    "ans: list.clear()"
   ]
  },
  {
   "cell_type": "code",
   "execution_count": null,
   "id": "1c2e66ea",
   "metadata": {},
   "outputs": [],
   "source": []
  },
  {
   "cell_type": "code",
   "execution_count": null,
   "id": "4f5247ef",
   "metadata": {},
   "outputs": [],
   "source": []
  },
  {
   "cell_type": "raw",
   "id": "1f480df3",
   "metadata": {},
   "source": [
    "Q4. What is the most effective way to initialise a list of 99 integers that repeats the sequence 1, 2, 3?\n",
    "S If necessary, show step-by-step instructions on how to accomplish this."
   ]
  },
  {
   "cell_type": "code",
   "execution_count": 1,
   "id": "fc4121d2",
   "metadata": {},
   "outputs": [
    {
     "name": "stdout",
     "output_type": "stream",
     "text": [
      "0\n",
      "1\n",
      "2\n",
      "3\n",
      "4\n",
      "5\n",
      "6\n",
      "7\n",
      "8\n",
      "9\n",
      "10\n",
      "11\n",
      "12\n",
      "13\n",
      "14\n",
      "15\n",
      "16\n",
      "17\n",
      "18\n",
      "19\n",
      "20\n",
      "21\n",
      "22\n",
      "23\n",
      "24\n",
      "25\n",
      "26\n",
      "27\n",
      "28\n",
      "29\n",
      "30\n",
      "31\n",
      "32\n",
      "33\n",
      "34\n",
      "35\n",
      "36\n",
      "37\n",
      "38\n",
      "39\n",
      "40\n",
      "41\n",
      "42\n",
      "43\n",
      "44\n",
      "45\n",
      "46\n",
      "47\n",
      "48\n",
      "49\n",
      "50\n",
      "51\n",
      "52\n",
      "53\n",
      "54\n",
      "55\n",
      "56\n",
      "57\n",
      "58\n",
      "59\n",
      "60\n",
      "61\n",
      "62\n",
      "63\n",
      "64\n",
      "65\n",
      "66\n",
      "67\n",
      "68\n",
      "69\n",
      "70\n",
      "71\n",
      "72\n",
      "73\n",
      "74\n",
      "75\n",
      "76\n",
      "77\n",
      "78\n",
      "79\n",
      "80\n",
      "81\n",
      "82\n",
      "83\n",
      "84\n",
      "85\n",
      "86\n",
      "87\n",
      "88\n",
      "89\n",
      "90\n",
      "91\n",
      "92\n",
      "93\n",
      "94\n",
      "95\n",
      "96\n",
      "97\n",
      "98\n",
      "99\n"
     ]
    }
   ],
   "source": [
    "n=[]\n",
    "for i in range(100):\n",
    "    n.append(i)\n",
    "    print(i)"
   ]
  },
  {
   "cell_type": "code",
   "execution_count": null,
   "id": "26afe5db",
   "metadata": {},
   "outputs": [],
   "source": []
  },
  {
   "cell_type": "code",
   "execution_count": null,
   "id": "3b4dcb25",
   "metadata": {},
   "outputs": [],
   "source": []
  },
  {
   "cell_type": "raw",
   "id": "1cb797e2",
   "metadata": {},
   "source": [
    "Q5. If you're using IDLE to run a Python application, explain how to print a multidimensional list as\n",
    "efficiently?"
   ]
  },
  {
   "cell_type": "code",
   "execution_count": 2,
   "id": "20378df4",
   "metadata": {},
   "outputs": [
    {
     "name": "stdout",
     "output_type": "stream",
     "text": [
      "[[0, 0, 0, 0, 0], [0, 0, 0, 0, 0], [0, 0, 0, 0, 0], [0, 0, 0, 0, 0]]\n"
     ]
    }
   ],
   "source": [
    "gaju= 4\n",
    "nyra = 5\n",
    "\n",
    "a= [[0 for x in range(nyra)]for x in range (gaju)]\n",
    "print(a)"
   ]
  },
  {
   "cell_type": "code",
   "execution_count": null,
   "id": "f165a8fd",
   "metadata": {},
   "outputs": [],
   "source": []
  },
  {
   "cell_type": "code",
   "execution_count": null,
   "id": "96ef78bb",
   "metadata": {},
   "outputs": [],
   "source": []
  },
  {
   "cell_type": "raw",
   "id": "efe38c4f",
   "metadata": {},
   "source": [
    "Q6. Is it possible to use list comprehension with a string? If so, how can you go about doing it?"
   ]
  },
  {
   "cell_type": "code",
   "execution_count": 3,
   "id": "92168ebe",
   "metadata": {},
   "outputs": [
    {
     "name": "stdout",
     "output_type": "stream",
     "text": [
      "['V', 'A', 'R', 'S', 'H', 'U']\n"
     ]
    }
   ],
   "source": [
    "h_letters = [letter for letter in 'VARSHU']\n",
    "print( h_letters)"
   ]
  },
  {
   "cell_type": "code",
   "execution_count": null,
   "id": "e35c6239",
   "metadata": {},
   "outputs": [],
   "source": []
  },
  {
   "cell_type": "code",
   "execution_count": null,
   "id": "b3033e03",
   "metadata": {},
   "outputs": [],
   "source": []
  },
  {
   "cell_type": "raw",
   "id": "e9388e43",
   "metadata": {},
   "source": [
    "Q7. From the command line, how do you get support with a user-written Python programme? Is this\n",
    "possible from inside IDLE?"
   ]
  },
  {
   "cell_type": "raw",
   "id": "9695c65c",
   "metadata": {},
   "source": [
    "ans:we can perform differnt things like downloading packages checking python creating environment from CLI a terminal window is there in idle to do the same."
   ]
  },
  {
   "cell_type": "code",
   "execution_count": null,
   "id": "3bfd3252",
   "metadata": {},
   "outputs": [],
   "source": []
  },
  {
   "cell_type": "code",
   "execution_count": null,
   "id": "5cc0c046",
   "metadata": {},
   "outputs": [],
   "source": []
  },
  {
   "cell_type": "raw",
   "id": "864d6881",
   "metadata": {},
   "source": [
    "Q8. Functions are said to be “first-class objects” in Python but not in most other languages, such as\n",
    "C++ or Java. What can you do in Python with a function (callable object) that you can't do in C or\n",
    "C++?"
   ]
  },
  {
   "cell_type": "raw",
   "id": "faf021aa",
   "metadata": {},
   "source": [
    "ans: functions behave like any other object,such as an int or a list. That means that you can use functions as arguments to other functions, store functions as dictionery values, or return a function from another function. this leads to many powerful ways to use functions."
   ]
  },
  {
   "cell_type": "code",
   "execution_count": null,
   "id": "a3504de2",
   "metadata": {},
   "outputs": [],
   "source": []
  },
  {
   "cell_type": "code",
   "execution_count": null,
   "id": "cca8950b",
   "metadata": {},
   "outputs": [],
   "source": []
  },
  {
   "cell_type": "raw",
   "id": "24c4d32d",
   "metadata": {},
   "source": [
    "Q9. How do you distinguish between a wrapper, a wrapped feature, and a decorator?"
   ]
  },
  {
   "cell_type": "raw",
   "id": "ec1e369e",
   "metadata": {},
   "source": [
    "ans: Decorates allow us to wrap another function in order to extend the behaviour of the wrapped function,withiout permantely modifying it. In Decorators,functions are taken as the argument into another function and then called inside the wrapper function.\n",
    "\n",
    "\n",
    "@wrapper\n",
    "\n",
    "def function(n):\n",
    "    statement(s)\n",
    "    \n",
    "    \n",
    "similar to\n",
    "\n",
    "def function(n):\n",
    "    statement(s)\n",
    "    \n",
    "    \n",
    "    \n",
    "function = wrapper(function)"
   ]
  },
  {
   "cell_type": "code",
   "execution_count": null,
   "id": "9f8e57ba",
   "metadata": {},
   "outputs": [],
   "source": []
  },
  {
   "cell_type": "code",
   "execution_count": null,
   "id": "c82ecb51",
   "metadata": {},
   "outputs": [],
   "source": []
  },
  {
   "cell_type": "raw",
   "id": "7c06ff24",
   "metadata": {},
   "source": [
    "Q10. If a function is a generator function, what does it return?"
   ]
  },
  {
   "cell_type": "raw",
   "id": "b2e4c88f",
   "metadata": {},
   "source": [
    "ans: A generator is a special type of function which does not return a single value, instead, it returns an iterator object with a sequence of values. In a generator function, a yieald statement is used rather than a return statement."
   ]
  },
  {
   "cell_type": "code",
   "execution_count": null,
   "id": "63faf752",
   "metadata": {},
   "outputs": [],
   "source": []
  },
  {
   "cell_type": "code",
   "execution_count": null,
   "id": "129b3693",
   "metadata": {},
   "outputs": [],
   "source": []
  },
  {
   "cell_type": "raw",
   "id": "aa376173",
   "metadata": {},
   "source": [
    "Q11. What is the one improvement that must be made to a function in order for it to become a\n",
    "generator function in the Python language?"
   ]
  },
  {
   "cell_type": "raw",
   "id": "1af96d30",
   "metadata": {},
   "source": [
    "ans: yiled keyword"
   ]
  },
  {
   "cell_type": "code",
   "execution_count": null,
   "id": "20c8d18f",
   "metadata": {},
   "outputs": [],
   "source": []
  },
  {
   "cell_type": "code",
   "execution_count": null,
   "id": "0582e4d4",
   "metadata": {},
   "outputs": [],
   "source": []
  },
  {
   "cell_type": "raw",
   "id": "c6fabfbc",
   "metadata": {},
   "source": [
    "Q12. Identify at least one benefit of generators."
   ]
  },
  {
   "cell_type": "raw",
   "id": "ce74eb90",
   "metadata": {},
   "source": [
    "ans: Generator functions allow ypu to  declare a function that behaves like an iterator. They allow programmers to make an iterator in a fast, easy. and clean way."
   ]
  },
  {
   "cell_type": "code",
   "execution_count": null,
   "id": "30940e92",
   "metadata": {},
   "outputs": [],
   "source": []
  },
  {
   "cell_type": "code",
   "execution_count": null,
   "id": "3bd32df3",
   "metadata": {},
   "outputs": [],
   "source": []
  }
 ],
 "metadata": {
  "kernelspec": {
   "display_name": "Python 3",
   "language": "python",
   "name": "python3"
  },
  "language_info": {
   "codemirror_mode": {
    "name": "ipython",
    "version": 3
   },
   "file_extension": ".py",
   "mimetype": "text/x-python",
   "name": "python",
   "nbconvert_exporter": "python",
   "pygments_lexer": "ipython3",
   "version": "3.8.8"
  }
 },
 "nbformat": 4,
 "nbformat_minor": 5
}
